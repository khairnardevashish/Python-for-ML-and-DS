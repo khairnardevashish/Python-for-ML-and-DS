{
 "cells": [
  {
   "cell_type": "markdown",
   "metadata": {},
   "source": [
    "### DataStructures in Python\n"
   ]
  },
  {
   "cell_type": "markdown",
   "metadata": {},
   "source": [
    "\n",
    "##### TUPLES\n",
    "\n",
    "Tuples are data structures that are similar to lists in all aspects except in the way they are declared and how much they allow themselves to be modified. <br> **A tuple once created cannot be modified.**"
   ]
  },
  {
   "cell_type": "code",
   "execution_count": 1,
   "metadata": {},
   "outputs": [
    {
     "name": "stdout",
     "output_type": "stream",
     "text": [
      "('SHerlock', 30, 'London', 6.2)\n"
     ]
    }
   ],
   "source": [
    "sample_tuple = (\"Sherlock\", 30, \"London\", 6.2)\n",
    "print(sample_tuple)"
   ]
  },
  {
   "cell_type": "code",
   "execution_count": 2,
   "metadata": {},
   "outputs": [
    {
     "name": "stdout",
     "output_type": "stream",
     "text": [
      "('Mumbai', 18.99, 72.81)\n"
     ]
    }
   ],
   "source": [
    "city_tuple = ('Mumbai', 18.99, 72.81)\n",
    "print(city_tuple)"
   ]
  },
  {
   "cell_type": "markdown",
   "metadata": {},
   "source": [
    "#####  Access elements"
   ]
  },
  {
   "cell_type": "code",
   "execution_count": 3,
   "metadata": {},
   "outputs": [
    {
     "data": {
      "text/plain": [
       "18.99"
      ]
     },
     "execution_count": 3,
     "metadata": {},
     "output_type": "execute_result"
    }
   ],
   "source": [
    "city_tuple[1]"
   ]
  },
  {
   "cell_type": "code",
   "execution_count": 5,
   "metadata": {},
   "outputs": [],
   "source": [
    "# immutable hence can't modify\n",
    "city_tuple[1] = 15.213"
   ]
  },
  {
   "cell_type": "code",
   "execution_count": null,
   "metadata": {},
   "outputs": [],
   "source": [
    "# TO change convert in List"
   ]
  },
  {
   "cell_type": "code",
   "execution_count": 10,
   "metadata": {},
   "outputs": [
    {
     "name": "stdout",
     "output_type": "stream",
     "text": [
      "Tuple is: (18.99, 72.81)\n"
     ]
    }
   ],
   "source": [
    "cord = city_tuple[1:]\n",
    "print('Tuple is: {0}'.format(cord))"
   ]
  },
  {
   "cell_type": "code",
   "execution_count": 8,
   "metadata": {},
   "outputs": [
    {
     "name": "stdout",
     "output_type": "stream",
     "text": [
      "list is: [18.99, 72.81]\n"
     ]
    }
   ],
   "source": [
    "list_cord = list(cord)\n",
    "print('list is: {0}'.format(list_cord))"
   ]
  },
  {
   "cell_type": "code",
   "execution_count": 11,
   "metadata": {},
   "outputs": [],
   "source": [
    "# Lets Try something"
   ]
  },
  {
   "cell_type": "code",
   "execution_count": 14,
   "metadata": {},
   "outputs": [],
   "source": [
    "tuple_1 = ('val', [1,2,3], 10.2)\n",
    "tuple_1[1][0] = 2"
   ]
  },
  {
   "cell_type": "code",
   "execution_count": 15,
   "metadata": {},
   "outputs": [
    {
     "name": "stdout",
     "output_type": "stream",
     "text": [
      "('val', [2, 2, 3], 10.2)\n"
     ]
    }
   ],
   "source": [
    "print(tuple_1)"
   ]
  },
  {
   "cell_type": "markdown",
   "metadata": {},
   "source": [
    "##### So we can have mutable data inside tuple which can be changed"
   ]
  },
  {
   "cell_type": "markdown",
   "metadata": {},
   "source": [
    "\n",
    "\n",
    "##### DICTIONARIES \n",
    "1.   ##### Key-Value pair DS\n",
    "2.   ##### Also known as Hash Table"
   ]
  },
  {
   "cell_type": "code",
   "execution_count": 17,
   "metadata": {},
   "outputs": [
    {
     "name": "stdout",
     "output_type": "stream",
     "text": [
      "<class 'dict'>\n"
     ]
    }
   ],
   "source": [
    "dictionary = {}\n",
    "print(type(dictionary))"
   ]
  },
  {
   "cell_type": "code",
   "execution_count": 18,
   "metadata": {},
   "outputs": [
    {
     "name": "stdout",
     "output_type": "stream",
     "text": [
      "{'Name': 'Dev', 'Age': 26, 'Height': 5.9, 'Weight': 70}\n"
     ]
    }
   ],
   "source": [
    "data = {'Name': 'Dev', 'Age': 26, 'Height': 5.9, 'Weight': 70}\n",
    "print(data)"
   ]
  },
  {
   "cell_type": "markdown",
   "metadata": {},
   "source": [
    "##### Access data using keys"
   ]
  },
  {
   "cell_type": "code",
   "execution_count": 19,
   "metadata": {},
   "outputs": [
    {
     "name": "stdout",
     "output_type": "stream",
     "text": [
      "Dev\n"
     ]
    }
   ],
   "source": [
    "name = data['Name']\n",
    "print(name)"
   ]
  },
  {
   "cell_type": "code",
   "execution_count": 22,
   "metadata": {},
   "outputs": [
    {
     "name": "stdout",
     "output_type": "stream",
     "text": [
      "{'Name': 'Devashish', 'Age': 26, 'Height': 5.9, 'Weight': 70}\n"
     ]
    }
   ],
   "source": [
    "data['Name'] = \"Devashish\"\n",
    "print(data)"
   ]
  },
  {
   "cell_type": "code",
   "execution_count": 24,
   "metadata": {},
   "outputs": [
    {
     "name": "stdout",
     "output_type": "stream",
     "text": [
      "None\n"
     ]
    }
   ],
   "source": [
    "# When keys are not present to avoid errors use get function\n",
    "last_name = data.get('last_name')\n",
    "print(last_name)"
   ]
  },
  {
   "cell_type": "code",
   "execution_count": 25,
   "metadata": {},
   "outputs": [
    {
     "name": "stdout",
     "output_type": "stream",
     "text": [
      "NA\n"
     ]
    }
   ],
   "source": [
    "# Can also set Default values\n",
    "last_name = data.get('last_name', 'NA')\n",
    "print(last_name)"
   ]
  },
  {
   "cell_type": "markdown",
   "metadata": {},
   "source": [
    "##### Add more key values"
   ]
  },
  {
   "cell_type": "code",
   "execution_count": 27,
   "metadata": {},
   "outputs": [
    {
     "name": "stdout",
     "output_type": "stream",
     "text": [
      "{'Name': 'Devashish', 'Age': 26, 'Height': 5.9, 'Weight': 70, 'Last_Name': 'Khairnar'}\n"
     ]
    }
   ],
   "source": [
    "data['Last_Name'] = \"Khairnar\"\n",
    "print(data)"
   ]
  },
  {
   "cell_type": "code",
   "execution_count": 29,
   "metadata": {},
   "outputs": [
    {
     "name": "stdout",
     "output_type": "stream",
     "text": [
      "True\n"
     ]
    }
   ],
   "source": [
    "# Check key is present or not\n",
    "print('Name' in data)"
   ]
  },
  {
   "cell_type": "code",
   "execution_count": 33,
   "metadata": {},
   "outputs": [
    {
     "name": "stdout",
     "output_type": "stream",
     "text": [
      "['Name', 'Age', 'Height', 'Weight', 'Last_Name']\n",
      "['Devashish', 26, 5.9, 70, 'Khairnar']\n"
     ]
    }
   ],
   "source": [
    "#Get List of Keys and Values\n",
    "keys = (list(data.keys()))\n",
    "print(keys)\n",
    "        \n",
    "values =(list(data.values()))\n",
    "print(values)"
   ]
  },
  {
   "cell_type": "markdown",
   "metadata": {},
   "source": [
    "##### Other way to create Dictionary using function Dict"
   ]
  },
  {
   "cell_type": "code",
   "execution_count": 34,
   "metadata": {},
   "outputs": [
    {
     "name": "stdout",
     "output_type": "stream",
     "text": [
      "{'Country': 'India', 'Cities': ['Mumbai', 'Delhi', 'Kolkata']}\n"
     ]
    }
   ],
   "source": [
    "new_dict = dict(Country = \"India\", Cities = [\"Mumbai\", \"Delhi\", \"Kolkata\"])\n",
    "print(new_dict)"
   ]
  },
  {
   "cell_type": "code",
   "execution_count": 35,
   "metadata": {},
   "outputs": [
    {
     "name": "stdout",
     "output_type": "stream",
     "text": [
      "{'Name': 'Devashish', 'Age': 26, 'Height': 5.9, 'Weight': 70, 'Last_Name': 'Khairnar', 'Country': 'India', 'Cities': ['Mumbai', 'Delhi', 'Kolkata']}\n"
     ]
    }
   ],
   "source": [
    "#Can update one dict using other\n",
    "data.update(new_dict)\n",
    "print(data)"
   ]
  },
  {
   "cell_type": "code",
   "execution_count": 37,
   "metadata": {},
   "outputs": [
    {
     "name": "stdout",
     "output_type": "stream",
     "text": [
      "{'Cities': ['Mumbai', 'Delhi', 'Kolkata']}\n"
     ]
    }
   ],
   "source": [
    "# to delete from Dict\n",
    "del new_dict['Country']\n",
    "print(new_dict)"
   ]
  },
  {
   "cell_type": "code",
   "execution_count": 42,
   "metadata": {},
   "outputs": [
    {
     "name": "stdout",
     "output_type": "stream",
     "text": [
      "[['dev', 24], ['Rahul', 26], ['Chinmay', 23]]\n",
      "3\n"
     ]
    }
   ],
   "source": [
    "student_data = {1: ['dev', 24], 2: ['Rahul', 26], 3: ['Chinmay', 23] }\n",
    "print(list(student_data.values()))\n",
    "print(len(student_data))"
   ]
  },
  {
   "cell_type": "code",
   "execution_count": 43,
   "metadata": {},
   "outputs": [
    {
     "name": "stdout",
     "output_type": "stream",
     "text": [
      "{1: ['dev', 24], 2: ['Rahul', 26], 3: ['Chinmay', 23], 4: ['Ashish', 26]}\n"
     ]
    }
   ],
   "source": [
    "student_data[4] = ['Ashish', 26]\n",
    "print(student_data)"
   ]
  },
  {
   "cell_type": "code",
   "execution_count": null,
   "metadata": {},
   "outputs": [],
   "source": []
  }
 ],
 "metadata": {
  "kernelspec": {
   "display_name": "Python 3",
   "language": "python",
   "name": "python3"
  },
  "language_info": {
   "codemirror_mode": {
    "name": "ipython",
    "version": 3
   },
   "file_extension": ".py",
   "mimetype": "text/x-python",
   "name": "python",
   "nbconvert_exporter": "python",
   "pygments_lexer": "ipython3",
   "version": "3.8.5"
  }
 },
 "nbformat": 4,
 "nbformat_minor": 4
}
