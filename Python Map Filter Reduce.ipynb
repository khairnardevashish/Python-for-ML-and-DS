{
 "cells": [
  {
   "cell_type": "markdown",
   "metadata": {},
   "source": [
    "##### MAP\n",
    "\n",
    "It takes two args\n",
    "1. function\n",
    "2. iterable data structure"
   ]
  },
  {
   "cell_type": "code",
   "execution_count": 2,
   "metadata": {},
   "outputs": [],
   "source": [
    "first_list = [2, 5, 6]"
   ]
  },
  {
   "cell_type": "code",
   "execution_count": 3,
   "metadata": {},
   "outputs": [
    {
     "name": "stdout",
     "output_type": "stream",
     "text": [
      "<map object at 0x0000021919F9D7C0>\n"
     ]
    }
   ],
   "source": [
    "print(map(lambda x: x**2, first_list))"
   ]
  },
  {
   "cell_type": "code",
   "execution_count": 4,
   "metadata": {},
   "outputs": [
    {
     "name": "stdout",
     "output_type": "stream",
     "text": [
      "[4, 25, 36]\n"
     ]
    }
   ],
   "source": [
    "print(list(map(lambda x: x**2, first_list)))"
   ]
  },
  {
   "cell_type": "code",
   "execution_count": 8,
   "metadata": {},
   "outputs": [
    {
     "name": "stdout",
     "output_type": "stream",
     "text": [
      "[4, 25, 36]\n"
     ]
    }
   ],
   "source": [
    "#Another way\n",
    "\n",
    "def squareit (num):\n",
    "    return num**2\n",
    "\n",
    "print(list(map(squareit, first_list)))"
   ]
  },
  {
   "cell_type": "markdown",
   "metadata": {},
   "source": [
    "##### Using the function Map, count the number of words that start with ‘S’ in input_list."
   ]
  },
  {
   "cell_type": "code",
   "execution_count": 10,
   "metadata": {},
   "outputs": [
    {
     "name": "stdout",
     "output_type": "stream",
     "text": [
      "3\n"
     ]
    }
   ],
   "source": [
    "inp_list = ['San Jose', 'San Francisco', 'Santa Fe', 'Houston']\n",
    "\n",
    "count = sum(map(lambda x : x[0].lower() == 's', inp_list))\n",
    "print(count)"
   ]
  },
  {
   "cell_type": "code",
   "execution_count": 14,
   "metadata": {},
   "outputs": [
    {
     "name": "stdout",
     "output_type": "stream",
     "text": [
      "[10, 13, 15, 25]\n"
     ]
    }
   ],
   "source": [
    "#Example 1\n",
    "\n",
    "list1 = [3, 5, 9, 14]\n",
    "list2 = [7, 8, 6, 11]\n",
    "\n",
    "print(list(map(lambda x,y : x+y, list1, list2)))"
   ]
  },
  {
   "cell_type": "code",
   "execution_count": 15,
   "metadata": {},
   "outputs": [
    {
     "name": "stdout",
     "output_type": "stream",
     "text": [
      "['Rajesh Oak', 'Suresh Jadhav', 'Mahesh Joshi']\n"
     ]
    }
   ],
   "source": [
    "#Example 2\n",
    "\n",
    "name_list1 = [\"rajesh\", \"suresh\", \"mahesh\"]\n",
    "name_list2 = [\"oak\", \"jadhav\", \"joshi\"]\n",
    "\n",
    "proper = lambda x,y : x[0].upper()+x[1:]+\" \"+y[0].upper()+y[1:]\n",
    "print(list(map(proper, name_list1, name_list2)))"
   ]
  },
  {
   "cell_type": "markdown",
   "metadata": {},
   "source": [
    "##### Filter and Reduce\n",
    "Reduce is not inbuild function (present in functools)"
   ]
  },
  {
   "cell_type": "code",
   "execution_count": 20,
   "metadata": {},
   "outputs": [
    {
     "name": "stdout",
     "output_type": "stream",
     "text": [
      "[3, 6, 9]\n"
     ]
    }
   ],
   "source": [
    "#FILTER\n",
    "\n",
    "divby3 = lambda x : x % 3 == 0\n",
    "num = [3, 4, 5, 6, 7, 8, 9]\n",
    "div = filter(divby3, num)\n",
    "print(list(div))"
   ]
  },
  {
   "cell_type": "code",
   "execution_count": 21,
   "metadata": {},
   "outputs": [],
   "source": [
    "#REDUCE\n",
    "\n",
    "from functools import reduce"
   ]
  },
  {
   "cell_type": "code",
   "execution_count": 22,
   "metadata": {},
   "outputs": [
    {
     "name": "stdout",
     "output_type": "stream",
     "text": [
      "6\n"
     ]
    }
   ],
   "source": [
    "q = reduce(lambda x, y : x+y, range(1,4))\n",
    "print(q)\n",
    "\n",
    "#NOTE: in reduce after one iteration output of lambda becomes first parameter of function"
   ]
  },
  {
   "cell_type": "code",
   "execution_count": 23,
   "metadata": {},
   "outputs": [
    {
     "name": "stdout",
     "output_type": "stream",
     "text": [
      "97\n"
     ]
    }
   ],
   "source": [
    "#Find maximum using Reduce\n",
    "list_nums = [22,45,32,20,8,97,30,94]\n",
    "print(reduce(lambda x, y : x if x > y else y , list_nums))"
   ]
  },
  {
   "cell_type": "markdown",
   "metadata": {},
   "source": [
    "\n",
    "##### References\n",
    "\n",
    "1. https://www.python-course.eu/lambda.php https://book.pythontips.com/en/latest/map_filter.html\n",
    "2. https://book.pythontips.com/en/latest/map_filter.html"
   ]
  },
  {
   "cell_type": "code",
   "execution_count": 24,
   "metadata": {},
   "outputs": [
    {
     "name": "stdout",
     "output_type": "stream",
     "text": [
      "[1, 2, 3, 4, 5, 6, 7, 8, 9, 10, 11, 12, 13, 14, 15, 16, 17, 18, 19, 20]\n"
     ]
    }
   ],
   "source": [
    "total = list(map(lambda x : x, range(1,21)))\n",
    "print(total)"
   ]
  },
  {
   "cell_type": "code",
   "execution_count": 25,
   "metadata": {},
   "outputs": [
    {
     "data": {
      "text/plain": [
       "{1, 2, 3, 4, 5, 6, 7, 8, 9, 10, 11, 12, 13, 14, 15, 16, 17, 18, 19, 20}"
      ]
     },
     "execution_count": 25,
     "metadata": {},
     "output_type": "execute_result"
    }
   ],
   "source": [
    "set(total)"
   ]
  },
  {
   "cell_type": "code",
   "execution_count": null,
   "metadata": {},
   "outputs": [],
   "source": []
  }
 ],
 "metadata": {
  "kernelspec": {
   "display_name": "Python 3",
   "language": "python",
   "name": "python3"
  },
  "language_info": {
   "codemirror_mode": {
    "name": "ipython",
    "version": 3
   },
   "file_extension": ".py",
   "mimetype": "text/x-python",
   "name": "python",
   "nbconvert_exporter": "python",
   "pygments_lexer": "ipython3",
   "version": "3.8.5"
  }
 },
 "nbformat": 4,
 "nbformat_minor": 4
}
